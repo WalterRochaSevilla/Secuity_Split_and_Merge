{
 "cells": [
  {
   "cell_type": "code",
   "execution_count": 6,
   "id": "06ea4488-bb03-4ccb-b305-537558b9a1df",
   "metadata": {},
   "outputs": [],
   "source": [
    "import os\n",
    "import re \n",
    "from cryptography.fernet import Fernet\n",
    "from cryptography.hazmat.primitives.kdf.pbkdf2 import PBKDF2HMAC\n",
    "from cryptography.hazmat.primitives import hashes\n",
    "import base64"
   ]
  },
  {
   "cell_type": "code",
   "execution_count": 8,
   "id": "624b2def-6108-4bb2-b961-020909d6a96f",
   "metadata": {},
   "outputs": [],
   "source": [
    "\n",
    "def split_and_encrypt(input_path, chunk_size, base_password):\n",
    "    base, ext = os.path.splitext(input_path)\n",
    "    part_num = 1\n",
    "    \n",
    "    with open(input_path, 'rb') as infile:\n",
    "        while True:\n",
    "            chunk = infile.read(chunk_size)\n",
    "            if not chunk:\n",
    "                break\n",
    "            \n",
    "            # Generar clave única para esta parte (base_password + part_num)\n",
    "            salt = os.urandom(16)\n",
    "            kdf = PBKDF2HMAC(\n",
    "                algorithm=hashes.SHA256(),\n",
    "                length=32,\n",
    "                salt=salt,\n",
    "                iterations=100000,\n",
    "            )\n",
    "            key = base64.urlsafe_b64encode(kdf.derive(f\"{base_password}{part_num}\".encode()))\n",
    "            cipher = Fernet(key)\n",
    "            encrypted_chunk = cipher.encrypt(chunk)\n",
    "            part_name = f\"{base}_part{part_num}{ext}.enc\"\n",
    "            with open(part_name, 'wb') as outfile:\n",
    "                outfile.write(salt + encrypted_chunk)\n",
    "            \n",
    "            part_num += 1\n",
    "    \n",
    "    print(f\"Archivo dividido y cifrado en {part_num-1} partes.\")"
   ]
  },
  {
   "cell_type": "code",
   "execution_count": 10,
   "id": "8c26168a-9e5c-41e6-8452-9be4184a6adc",
   "metadata": {},
   "outputs": [],
   "source": [
    "def decrypt_and_merge(first_part_path, output_path, base_password):\n",
    "    dir_path = os.path.dirname(first_part_path) or '.'  # Usa '.' si la ruta es vacía\n",
    "    base_ext = os.path.basename(first_part_path)\n",
    "    \n",
    "    # Extraer nombre base, número de parte y extensión\n",
    "    match = re.match(r'^(.*?)_part(\\d+)(\\..+\\.enc)$', base_ext)\n",
    "    if not match:\n",
    "        raise ValueError(\"Formato incorrecto. Ejemplo esperado: nombre_part1.zip.enc\")\n",
    "    base_name = match.group(1)\n",
    "    ext = match.group(3)\n",
    "    \n",
    "    # Buscar todas las partes en el directorio correcto\n",
    "    part_files = []\n",
    "    for f in os.listdir(dir_path):  # Ahora dir_path es '.' si está vacío\n",
    "        full_path = os.path.join(dir_path, f)\n",
    "        if os.path.isfile(full_path) and f.startswith(f\"{base_name}_part\") and f.endswith(ext):\n",
    "            part_num = int(re.search(r'_part(\\d+)' + re.escape(ext) + '$', f).group(1))\n",
    "            part_files.append((part_num, full_path))\n",
    "    \n",
    "    # Verificar partes secuenciales\n",
    "    part_files.sort()\n",
    "    expected_parts = list(range(1, part_files[-1][0] + 1)) if part_files else []\n",
    "    missing = [p for p in expected_parts if p not in [pf[0] for pf in part_files]]\n",
    "    if missing:\n",
    "        raise ValueError(f\"Partes faltantes: {missing}\")\n",
    "    \n",
    "    # Descifrar y unir\n",
    "    with open(output_path, 'wb') as outfile:\n",
    "        for part_num, part_path in part_files:\n",
    "            with open(part_path, 'rb') as infile:\n",
    "                data = infile.read()\n",
    "                salt, encrypted_chunk = data[:16], data[16:]\n",
    "                \n",
    "                # Regenerar clave\n",
    "                kdf = PBKDF2HMAC(\n",
    "                    algorithm=hashes.SHA256(),\n",
    "                    length=32,\n",
    "                    salt=salt,\n",
    "                    iterations=100000,\n",
    "                )\n",
    "                key = base64.urlsafe_b64encode(kdf.derive(f\"{base_password}{part_num}\".encode()))\n",
    "                cipher = Fernet(key)\n",
    "                \n",
    "                # Descifrar\n",
    "                decrypted_chunk = cipher.decrypt(encrypted_chunk)\n",
    "                outfile.write(decrypted_chunk)\n",
    "    for _, part_path in part_files:\n",
    "            os.remove(part_path)\n",
    "    print(f\"Archivo fusionado: {output_path}\")"
   ]
  },
  {
   "cell_type": "code",
   "execution_count": 17,
   "id": "b801b434-5af6-43fb-b825-640ba841419e",
   "metadata": {},
   "outputs": [
    {
     "name": "stdout",
     "output_type": "stream",
     "text": [
      "Archivo dividido y cifrado en 13 partes.\n"
     ]
    }
   ],
   "source": [
    "split_and_encrypt(\"prueba.pdf.enc.zip\", 1 * 1024 * 1024, \"mi_contraseña_secreta\")"
   ]
  },
  {
   "cell_type": "code",
   "execution_count": 15,
   "id": "61133d0f-fd5f-426b-ad12-7a2713e29742",
   "metadata": {},
   "outputs": [
    {
     "name": "stdout",
     "output_type": "stream",
     "text": [
      "Archivo fusionado: Reporte.zip\n"
     ]
    }
   ],
   "source": [
    "decrypt_and_merge(\"prueba.pdf.enc_part1.zip.enc\", \"Reporte.zip\", \"mi_contraseña_secreta\")"
   ]
  },
  {
   "cell_type": "code",
   "execution_count": null,
   "id": "bd2fdefb-c5ad-4955-bbf5-d001770fca9f",
   "metadata": {},
   "outputs": [],
   "source": []
  }
 ],
 "metadata": {
  "kernelspec": {
   "display_name": "Python 3 (ipykernel)",
   "language": "python",
   "name": "python3"
  },
  "language_info": {
   "codemirror_mode": {
    "name": "ipython",
    "version": 3
   },
   "file_extension": ".py",
   "mimetype": "text/x-python",
   "name": "python",
   "nbconvert_exporter": "python",
   "pygments_lexer": "ipython3",
   "version": "3.11.7"
  }
 },
 "nbformat": 4,
 "nbformat_minor": 5
}
